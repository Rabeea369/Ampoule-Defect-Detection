{
 "cells": [
  {
   "cell_type": "code",
   "execution_count": 9,
   "metadata": {
    "scrolled": true
   },
   "outputs": [
    {
     "name": "stdout",
     "output_type": "stream",
     "text": [
      "21.184510250569478 20.50113895216401 26.42369020501139 31.890660592255127\n",
      "0.6833712984054685 -5.466970387243737\n",
      "13.461538461538462 23.076923076923077 27.884615384615387 35.57692307692308\n",
      "-9.615384615384615 -7.692307692307693\n",
      "13.360323886639677 19.838056680161944 29.554655870445345 37.24696356275304\n",
      "-6.477732793522268 -7.692307692307693\n",
      "7.949790794979079 13.389121338912133 29.707112970711297 48.95397489539749\n",
      "-5.439330543933054 -19.24686192468619\n",
      "11.553784860557768 14.741035856573706 28.68525896414343 45.0199203187251\n",
      "-3.1872509960159388 -16.33466135458167\n",
      "12.350597609561753 17.52988047808765 30.677290836653388 39.44223107569721\n",
      "-5.179282868525899 -8.76494023904382\n",
      "8.4 13.200000000000001 31.2 47.199999999999996\n",
      "-4.800000000000001 -15.999999999999996\n",
      "Defected\n"
     ]
    },
    {
     "data": {
      "image/png": "[encoded data removed]",
      "text/plain": [
       "<Figure size 432x288 with 1 Axes>"
      ]
     },
     "metadata": {
      "needs_background": "light"
     },
     "output_type": "display_data"
    }
   ],
   "source": [
    "import import_ipynb\n",
    "from Binary_Classifier import binary_mask\n",
    "from ROI import ROI_extr\n",
    "import cv2\n",
    "import matplotlib.pyplot as plt\n",
    "import numpy as np\n",
    "import os\n",
    "from os import listdir, makedirs\n",
    "from os.path import isfile, join, dirname, realpath, isdir\n",
    "import glob2\n",
    "\n",
    "\n",
    "def call_extr(p):\n",
    "    global mask,image\n",
    "    rois = ROI_extr(mask,image,p)\n",
    "    print(rois.shape)\n",
    "    for l in range(0,(rois.shape[2]-2),3):\n",
    "        image_path = join(new_path,(img[:-4] + '_' + str(l) + '.bmp'))\n",
    "        cv2.imwrite(image_path, rois[:,:,l:l+3])\n",
    "    return rois\n",
    "\n",
    "path = \"./Data/defected/scratch/scratch (6).bmp\"\n",
    "image = cv2.imread(path)\n",
    "image = image[:,250:800,:]\n",
    "r = image.shape[0]\n",
    "c = image.shape[1]\n",
    "image = cv2.resize(image, dsize = (int(c), int(r*0.5)))\n",
    "mask = binary_mask(image)\n",
    "plt.imshow(mask , cmap ='gray')\n",
    "if 1 in mask:\n",
    "    out = 'Defected'\n",
    "else:\n",
    "    out = 'clean'\n",
    "print(out)\n",
    "#mask = mask.astype(np.uint8)\n",
    "#call_extr(4)"
   ]
  },
  {
   "cell_type": "code",
   "execution_count": null,
   "metadata": {},
   "outputs": [],
   "source": []
  }
 ],
 "metadata": {
  "kernelspec": {
   "display_name": "my_env",
   "language": "python",
   "name": "my_env"
  },
  "language_info": {
   "codemirror_mode": {
    "name": "ipython",
    "version": 3
   },
   "file_extension": ".py",
   "mimetype": "text/x-python",
   "name": "python",
   "nbconvert_exporter": "python",
   "pygments_lexer": "ipython3",
   "version": "3.8.5"
  }
 },
 "nbformat": 4,
 "nbformat_minor": 4
}
